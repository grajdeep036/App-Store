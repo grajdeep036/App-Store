{
 "cells": [
  {
   "cell_type": "markdown",
   "metadata": {},
   "source": [
    "## Importing Libraries"
   ]
  },
  {
   "cell_type": "code",
   "execution_count": 1,
   "metadata": {},
   "outputs": [],
   "source": [
    "import scipy\n",
    "import numpy as np\n",
    "import pandas as pd\n",
    "import seaborn as sns\n",
    "import matplotlib.pyplot as plt\n",
    "\n",
    "%matplotlib inline"
   ]
  },
  {
   "cell_type": "markdown",
   "metadata": {},
   "source": [
    "## Reading the Data "
   ]
  },
  {
   "cell_type": "code",
   "execution_count": 2,
   "metadata": {},
   "outputs": [
    {
     "name": "stdout",
     "output_type": "stream",
     "text": [
      "(17007, 18)\n"
     ]
    },
    {
     "data": {
      "text/html": [
       "<div>\n",
       "<style scoped>\n",
       "    .dataframe tbody tr th:only-of-type {\n",
       "        vertical-align: middle;\n",
       "    }\n",
       "\n",
       "    .dataframe tbody tr th {\n",
       "        vertical-align: top;\n",
       "    }\n",
       "\n",
       "    .dataframe thead th {\n",
       "        text-align: right;\n",
       "    }\n",
       "</style>\n",
       "<table border=\"1\" class=\"dataframe\">\n",
       "  <thead>\n",
       "    <tr style=\"text-align: right;\">\n",
       "      <th></th>\n",
       "      <th>URL</th>\n",
       "      <th>ID</th>\n",
       "      <th>Name</th>\n",
       "      <th>Subtitle</th>\n",
       "      <th>Icon URL</th>\n",
       "      <th>Average User Rating</th>\n",
       "      <th>User Rating Count</th>\n",
       "      <th>Price</th>\n",
       "      <th>In-app Purchases</th>\n",
       "      <th>Description</th>\n",
       "      <th>Developer</th>\n",
       "      <th>Age Rating</th>\n",
       "      <th>Languages</th>\n",
       "      <th>Size</th>\n",
       "      <th>Primary Genre</th>\n",
       "      <th>Genres</th>\n",
       "      <th>Original Release Date</th>\n",
       "      <th>Current Version Release Date</th>\n",
       "    </tr>\n",
       "  </thead>\n",
       "  <tbody>\n",
       "    <tr>\n",
       "      <th>0</th>\n",
       "      <td>https://apps.apple.com/us/app/sudoku/id284921427</td>\n",
       "      <td>284921427</td>\n",
       "      <td>Sudoku</td>\n",
       "      <td>NaN</td>\n",
       "      <td>https://is2-ssl.mzstatic.com/image/thumb/Purpl...</td>\n",
       "      <td>4.0</td>\n",
       "      <td>3553.0</td>\n",
       "      <td>2.99</td>\n",
       "      <td>NaN</td>\n",
       "      <td>Join over 21,000,000 of our fans and download ...</td>\n",
       "      <td>Mighty Mighty Good Games</td>\n",
       "      <td>4+</td>\n",
       "      <td>DA, NL, EN, FI, FR, DE, IT, JA, KO, NB, PL, PT...</td>\n",
       "      <td>15853568.0</td>\n",
       "      <td>Games</td>\n",
       "      <td>Games, Strategy, Puzzle</td>\n",
       "      <td>11/07/2008</td>\n",
       "      <td>30/05/2017</td>\n",
       "    </tr>\n",
       "    <tr>\n",
       "      <th>1</th>\n",
       "      <td>https://apps.apple.com/us/app/reversi/id284926400</td>\n",
       "      <td>284926400</td>\n",
       "      <td>Reversi</td>\n",
       "      <td>NaN</td>\n",
       "      <td>https://is4-ssl.mzstatic.com/image/thumb/Purpl...</td>\n",
       "      <td>3.5</td>\n",
       "      <td>284.0</td>\n",
       "      <td>1.99</td>\n",
       "      <td>NaN</td>\n",
       "      <td>The classic game of Reversi, also known as Oth...</td>\n",
       "      <td>Kiss The Machine</td>\n",
       "      <td>4+</td>\n",
       "      <td>EN</td>\n",
       "      <td>12328960.0</td>\n",
       "      <td>Games</td>\n",
       "      <td>Games, Strategy, Board</td>\n",
       "      <td>11/07/2008</td>\n",
       "      <td>17/05/2018</td>\n",
       "    </tr>\n",
       "    <tr>\n",
       "      <th>2</th>\n",
       "      <td>https://apps.apple.com/us/app/morocco/id284946595</td>\n",
       "      <td>284946595</td>\n",
       "      <td>Morocco</td>\n",
       "      <td>NaN</td>\n",
       "      <td>https://is5-ssl.mzstatic.com/image/thumb/Purpl...</td>\n",
       "      <td>3.0</td>\n",
       "      <td>8376.0</td>\n",
       "      <td>0.00</td>\n",
       "      <td>NaN</td>\n",
       "      <td>Play the classic strategy game Othello (also k...</td>\n",
       "      <td>Bayou Games</td>\n",
       "      <td>4+</td>\n",
       "      <td>EN</td>\n",
       "      <td>674816.0</td>\n",
       "      <td>Games</td>\n",
       "      <td>Games, Board, Strategy</td>\n",
       "      <td>11/07/2008</td>\n",
       "      <td>5/09/2017</td>\n",
       "    </tr>\n",
       "  </tbody>\n",
       "</table>\n",
       "</div>"
      ],
      "text/plain": [
       "                                                 URL         ID     Name  \\\n",
       "0   https://apps.apple.com/us/app/sudoku/id284921427  284921427   Sudoku   \n",
       "1  https://apps.apple.com/us/app/reversi/id284926400  284926400  Reversi   \n",
       "2  https://apps.apple.com/us/app/morocco/id284946595  284946595  Morocco   \n",
       "\n",
       "  Subtitle                                           Icon URL  \\\n",
       "0      NaN  https://is2-ssl.mzstatic.com/image/thumb/Purpl...   \n",
       "1      NaN  https://is4-ssl.mzstatic.com/image/thumb/Purpl...   \n",
       "2      NaN  https://is5-ssl.mzstatic.com/image/thumb/Purpl...   \n",
       "\n",
       "   Average User Rating  User Rating Count  Price In-app Purchases  \\\n",
       "0                  4.0             3553.0   2.99              NaN   \n",
       "1                  3.5              284.0   1.99              NaN   \n",
       "2                  3.0             8376.0   0.00              NaN   \n",
       "\n",
       "                                         Description  \\\n",
       "0  Join over 21,000,000 of our fans and download ...   \n",
       "1  The classic game of Reversi, also known as Oth...   \n",
       "2  Play the classic strategy game Othello (also k...   \n",
       "\n",
       "                  Developer Age Rating  \\\n",
       "0  Mighty Mighty Good Games         4+   \n",
       "1          Kiss The Machine         4+   \n",
       "2               Bayou Games         4+   \n",
       "\n",
       "                                           Languages        Size  \\\n",
       "0  DA, NL, EN, FI, FR, DE, IT, JA, KO, NB, PL, PT...  15853568.0   \n",
       "1                                                 EN  12328960.0   \n",
       "2                                                 EN    674816.0   \n",
       "\n",
       "  Primary Genre                   Genres Original Release Date  \\\n",
       "0         Games  Games, Strategy, Puzzle            11/07/2008   \n",
       "1         Games   Games, Strategy, Board            11/07/2008   \n",
       "2         Games   Games, Board, Strategy            11/07/2008   \n",
       "\n",
       "  Current Version Release Date  \n",
       "0                   30/05/2017  \n",
       "1                   17/05/2018  \n",
       "2                    5/09/2017  "
      ]
     },
     "execution_count": 2,
     "metadata": {},
     "output_type": "execute_result"
    }
   ],
   "source": [
    "data = pd.read_csv(r'appstore_games (2).csv')\n",
    "print(data.shape)\n",
    "data.head(3)"
   ]
  },
  {
   "cell_type": "markdown",
   "metadata": {},
   "source": [
    "## Dropping Irrelevant Columns"
   ]
  },
  {
   "cell_type": "code",
   "execution_count": 3,
   "metadata": {},
   "outputs": [
    {
     "name": "stdout",
     "output_type": "stream",
     "text": [
      "(17007, 15)\n"
     ]
    },
    {
     "data": {
      "text/html": [
       "<div>\n",
       "<style scoped>\n",
       "    .dataframe tbody tr th:only-of-type {\n",
       "        vertical-align: middle;\n",
       "    }\n",
       "\n",
       "    .dataframe tbody tr th {\n",
       "        vertical-align: top;\n",
       "    }\n",
       "\n",
       "    .dataframe thead th {\n",
       "        text-align: right;\n",
       "    }\n",
       "</style>\n",
       "<table border=\"1\" class=\"dataframe\">\n",
       "  <thead>\n",
       "    <tr style=\"text-align: right;\">\n",
       "      <th></th>\n",
       "      <th>Name</th>\n",
       "      <th>Subtitle</th>\n",
       "      <th>Average User Rating</th>\n",
       "      <th>User Rating Count</th>\n",
       "      <th>Price</th>\n",
       "      <th>In-app Purchases</th>\n",
       "      <th>Description</th>\n",
       "      <th>Developer</th>\n",
       "      <th>Age Rating</th>\n",
       "      <th>Languages</th>\n",
       "      <th>Size</th>\n",
       "      <th>Primary Genre</th>\n",
       "      <th>Genres</th>\n",
       "      <th>Original Release Date</th>\n",
       "      <th>Current Version Release Date</th>\n",
       "    </tr>\n",
       "  </thead>\n",
       "  <tbody>\n",
       "    <tr>\n",
       "      <th>0</th>\n",
       "      <td>Sudoku</td>\n",
       "      <td>NaN</td>\n",
       "      <td>4.0</td>\n",
       "      <td>3553.0</td>\n",
       "      <td>2.99</td>\n",
       "      <td>NaN</td>\n",
       "      <td>Join over 21,000,000 of our fans and download ...</td>\n",
       "      <td>Mighty Mighty Good Games</td>\n",
       "      <td>4+</td>\n",
       "      <td>DA, NL, EN, FI, FR, DE, IT, JA, KO, NB, PL, PT...</td>\n",
       "      <td>15853568.0</td>\n",
       "      <td>Games</td>\n",
       "      <td>Games, Strategy, Puzzle</td>\n",
       "      <td>11/07/2008</td>\n",
       "      <td>30/05/2017</td>\n",
       "    </tr>\n",
       "    <tr>\n",
       "      <th>1</th>\n",
       "      <td>Reversi</td>\n",
       "      <td>NaN</td>\n",
       "      <td>3.5</td>\n",
       "      <td>284.0</td>\n",
       "      <td>1.99</td>\n",
       "      <td>NaN</td>\n",
       "      <td>The classic game of Reversi, also known as Oth...</td>\n",
       "      <td>Kiss The Machine</td>\n",
       "      <td>4+</td>\n",
       "      <td>EN</td>\n",
       "      <td>12328960.0</td>\n",
       "      <td>Games</td>\n",
       "      <td>Games, Strategy, Board</td>\n",
       "      <td>11/07/2008</td>\n",
       "      <td>17/05/2018</td>\n",
       "    </tr>\n",
       "    <tr>\n",
       "      <th>2</th>\n",
       "      <td>Morocco</td>\n",
       "      <td>NaN</td>\n",
       "      <td>3.0</td>\n",
       "      <td>8376.0</td>\n",
       "      <td>0.00</td>\n",
       "      <td>NaN</td>\n",
       "      <td>Play the classic strategy game Othello (also k...</td>\n",
       "      <td>Bayou Games</td>\n",
       "      <td>4+</td>\n",
       "      <td>EN</td>\n",
       "      <td>674816.0</td>\n",
       "      <td>Games</td>\n",
       "      <td>Games, Board, Strategy</td>\n",
       "      <td>11/07/2008</td>\n",
       "      <td>5/09/2017</td>\n",
       "    </tr>\n",
       "  </tbody>\n",
       "</table>\n",
       "</div>"
      ],
      "text/plain": [
       "      Name Subtitle  Average User Rating  User Rating Count  Price  \\\n",
       "0   Sudoku      NaN                  4.0             3553.0   2.99   \n",
       "1  Reversi      NaN                  3.5              284.0   1.99   \n",
       "2  Morocco      NaN                  3.0             8376.0   0.00   \n",
       "\n",
       "  In-app Purchases                                        Description  \\\n",
       "0              NaN  Join over 21,000,000 of our fans and download ...   \n",
       "1              NaN  The classic game of Reversi, also known as Oth...   \n",
       "2              NaN  Play the classic strategy game Othello (also k...   \n",
       "\n",
       "                  Developer Age Rating  \\\n",
       "0  Mighty Mighty Good Games         4+   \n",
       "1          Kiss The Machine         4+   \n",
       "2               Bayou Games         4+   \n",
       "\n",
       "                                           Languages        Size  \\\n",
       "0  DA, NL, EN, FI, FR, DE, IT, JA, KO, NB, PL, PT...  15853568.0   \n",
       "1                                                 EN  12328960.0   \n",
       "2                                                 EN    674816.0   \n",
       "\n",
       "  Primary Genre                   Genres Original Release Date  \\\n",
       "0         Games  Games, Strategy, Puzzle            11/07/2008   \n",
       "1         Games   Games, Strategy, Board            11/07/2008   \n",
       "2         Games   Games, Board, Strategy            11/07/2008   \n",
       "\n",
       "  Current Version Release Date  \n",
       "0                   30/05/2017  \n",
       "1                   17/05/2018  \n",
       "2                    5/09/2017  "
      ]
     },
     "execution_count": 3,
     "metadata": {},
     "output_type": "execute_result"
    }
   ],
   "source": [
    "data.drop(['URL', 'ID', 'Icon URL'], axis = 1, inplace = True)\n",
    "print(data.shape)\n",
    "data.head(3)"
   ]
  },
  {
   "cell_type": "markdown",
   "metadata": {},
   "source": [
    "## Exploring and Modifying the Data"
   ]
  },
  {
   "cell_type": "markdown",
   "metadata": {},
   "source": [
    "**Number of Non-NA values in the dataframe**"
   ]
  },
  {
   "cell_type": "code",
   "execution_count": 4,
   "metadata": {},
   "outputs": [
    {
     "data": {
      "text/plain": [
       "Name                            17007\n",
       "Subtitle                         5261\n",
       "Average User Rating              7561\n",
       "User Rating Count                7561\n",
       "Price                           16983\n",
       "In-app Purchases                 7683\n",
       "Description                     17007\n",
       "Developer                       17007\n",
       "Age Rating                      17007\n",
       "Languages                       16947\n",
       "Size                            17006\n",
       "Primary Genre                   17007\n",
       "Genres                          17007\n",
       "Original Release Date           17007\n",
       "Current Version Release Date    17007\n",
       "dtype: int64"
      ]
     },
     "execution_count": 4,
     "metadata": {},
     "output_type": "execute_result"
    }
   ],
   "source": [
    "data.count()"
   ]
  },
  {
   "cell_type": "markdown",
   "metadata": {},
   "source": [
    "**Deleting rows whose prices are NA**"
   ]
  },
  {
   "cell_type": "code",
   "execution_count": 5,
   "metadata": {},
   "outputs": [
    {
     "name": "stdout",
     "output_type": "stream",
     "text": [
      "(16983, 15)\n"
     ]
    },
    {
     "data": {
      "text/html": [
       "<div>\n",
       "<style scoped>\n",
       "    .dataframe tbody tr th:only-of-type {\n",
       "        vertical-align: middle;\n",
       "    }\n",
       "\n",
       "    .dataframe tbody tr th {\n",
       "        vertical-align: top;\n",
       "    }\n",
       "\n",
       "    .dataframe thead th {\n",
       "        text-align: right;\n",
       "    }\n",
       "</style>\n",
       "<table border=\"1\" class=\"dataframe\">\n",
       "  <thead>\n",
       "    <tr style=\"text-align: right;\">\n",
       "      <th></th>\n",
       "      <th>Name</th>\n",
       "      <th>Subtitle</th>\n",
       "      <th>Average User Rating</th>\n",
       "      <th>User Rating Count</th>\n",
       "      <th>Price</th>\n",
       "      <th>In-app Purchases</th>\n",
       "      <th>Description</th>\n",
       "      <th>Developer</th>\n",
       "      <th>Age Rating</th>\n",
       "      <th>Languages</th>\n",
       "      <th>Size</th>\n",
       "      <th>Primary Genre</th>\n",
       "      <th>Genres</th>\n",
       "      <th>Original Release Date</th>\n",
       "      <th>Current Version Release Date</th>\n",
       "    </tr>\n",
       "  </thead>\n",
       "  <tbody>\n",
       "    <tr>\n",
       "      <th>0</th>\n",
       "      <td>Sudoku</td>\n",
       "      <td>NaN</td>\n",
       "      <td>4.0</td>\n",
       "      <td>3553.0</td>\n",
       "      <td>2.99</td>\n",
       "      <td>NaN</td>\n",
       "      <td>Join over 21,000,000 of our fans and download ...</td>\n",
       "      <td>Mighty Mighty Good Games</td>\n",
       "      <td>4+</td>\n",
       "      <td>DA, NL, EN, FI, FR, DE, IT, JA, KO, NB, PL, PT...</td>\n",
       "      <td>15853568.0</td>\n",
       "      <td>Games</td>\n",
       "      <td>Games, Strategy, Puzzle</td>\n",
       "      <td>11/07/2008</td>\n",
       "      <td>30/05/2017</td>\n",
       "    </tr>\n",
       "    <tr>\n",
       "      <th>1</th>\n",
       "      <td>Reversi</td>\n",
       "      <td>NaN</td>\n",
       "      <td>3.5</td>\n",
       "      <td>284.0</td>\n",
       "      <td>1.99</td>\n",
       "      <td>NaN</td>\n",
       "      <td>The classic game of Reversi, also known as Oth...</td>\n",
       "      <td>Kiss The Machine</td>\n",
       "      <td>4+</td>\n",
       "      <td>EN</td>\n",
       "      <td>12328960.0</td>\n",
       "      <td>Games</td>\n",
       "      <td>Games, Strategy, Board</td>\n",
       "      <td>11/07/2008</td>\n",
       "      <td>17/05/2018</td>\n",
       "    </tr>\n",
       "    <tr>\n",
       "      <th>2</th>\n",
       "      <td>Morocco</td>\n",
       "      <td>NaN</td>\n",
       "      <td>3.0</td>\n",
       "      <td>8376.0</td>\n",
       "      <td>0.00</td>\n",
       "      <td>NaN</td>\n",
       "      <td>Play the classic strategy game Othello (also k...</td>\n",
       "      <td>Bayou Games</td>\n",
       "      <td>4+</td>\n",
       "      <td>EN</td>\n",
       "      <td>674816.0</td>\n",
       "      <td>Games</td>\n",
       "      <td>Games, Board, Strategy</td>\n",
       "      <td>11/07/2008</td>\n",
       "      <td>5/09/2017</td>\n",
       "    </tr>\n",
       "  </tbody>\n",
       "</table>\n",
       "</div>"
      ],
      "text/plain": [
       "      Name Subtitle  Average User Rating  User Rating Count  Price  \\\n",
       "0   Sudoku      NaN                  4.0             3553.0   2.99   \n",
       "1  Reversi      NaN                  3.5              284.0   1.99   \n",
       "2  Morocco      NaN                  3.0             8376.0   0.00   \n",
       "\n",
       "  In-app Purchases                                        Description  \\\n",
       "0              NaN  Join over 21,000,000 of our fans and download ...   \n",
       "1              NaN  The classic game of Reversi, also known as Oth...   \n",
       "2              NaN  Play the classic strategy game Othello (also k...   \n",
       "\n",
       "                  Developer Age Rating  \\\n",
       "0  Mighty Mighty Good Games         4+   \n",
       "1          Kiss The Machine         4+   \n",
       "2               Bayou Games         4+   \n",
       "\n",
       "                                           Languages        Size  \\\n",
       "0  DA, NL, EN, FI, FR, DE, IT, JA, KO, NB, PL, PT...  15853568.0   \n",
       "1                                                 EN  12328960.0   \n",
       "2                                                 EN    674816.0   \n",
       "\n",
       "  Primary Genre                   Genres Original Release Date  \\\n",
       "0         Games  Games, Strategy, Puzzle            11/07/2008   \n",
       "1         Games   Games, Strategy, Board            11/07/2008   \n",
       "2         Games   Games, Board, Strategy            11/07/2008   \n",
       "\n",
       "  Current Version Release Date  \n",
       "0                   30/05/2017  \n",
       "1                   17/05/2018  \n",
       "2                    5/09/2017  "
      ]
     },
     "execution_count": 5,
     "metadata": {},
     "output_type": "execute_result"
    }
   ],
   "source": [
    "data.dropna(axis = 0, how = 'any', subset = ['Price'], inplace = True)\n",
    "data.reset_index(drop = True, inplace = True)\n",
    "print(data.shape)\n",
    "data.head(3)"
   ]
  },
  {
   "cell_type": "code",
   "execution_count": 6,
   "metadata": {},
   "outputs": [
    {
     "data": {
      "text/plain": [
       "Name                            16983\n",
       "Subtitle                         5241\n",
       "Average User Rating              7561\n",
       "User Rating Count                7561\n",
       "Price                           16983\n",
       "In-app Purchases                 7671\n",
       "Description                     16983\n",
       "Developer                       16983\n",
       "Age Rating                      16983\n",
       "Languages                       16923\n",
       "Size                            16983\n",
       "Primary Genre                   16983\n",
       "Genres                          16983\n",
       "Original Release Date           16983\n",
       "Current Version Release Date    16983\n",
       "dtype: int64"
      ]
     },
     "execution_count": 6,
     "metadata": {},
     "output_type": "execute_result"
    }
   ],
   "source": [
    "data.count()"
   ]
  },
  {
   "cell_type": "markdown",
   "metadata": {},
   "source": [
    "**Checking the occurance of NA values in Avg Rating and Rating Count**"
   ]
  },
  {
   "cell_type": "code",
   "execution_count": 7,
   "metadata": {},
   "outputs": [
    {
     "data": {
      "text/html": [
       "<div>\n",
       "<style scoped>\n",
       "    .dataframe tbody tr th:only-of-type {\n",
       "        vertical-align: middle;\n",
       "    }\n",
       "\n",
       "    .dataframe tbody tr th {\n",
       "        vertical-align: top;\n",
       "    }\n",
       "\n",
       "    .dataframe thead th {\n",
       "        text-align: right;\n",
       "    }\n",
       "</style>\n",
       "<table border=\"1\" class=\"dataframe\">\n",
       "  <thead>\n",
       "    <tr style=\"text-align: right;\">\n",
       "      <th></th>\n",
       "      <th>Name</th>\n",
       "      <th>Subtitle</th>\n",
       "      <th>Average User Rating</th>\n",
       "      <th>User Rating Count</th>\n",
       "      <th>Price</th>\n",
       "      <th>In-app Purchases</th>\n",
       "      <th>Description</th>\n",
       "      <th>Developer</th>\n",
       "      <th>Age Rating</th>\n",
       "      <th>Languages</th>\n",
       "      <th>Size</th>\n",
       "      <th>Primary Genre</th>\n",
       "      <th>Genres</th>\n",
       "      <th>Original Release Date</th>\n",
       "      <th>Current Version Release Date</th>\n",
       "    </tr>\n",
       "  </thead>\n",
       "  <tbody>\n",
       "    <tr>\n",
       "      <th>10</th>\n",
       "      <td>Quaddraxx</td>\n",
       "      <td>NaN</td>\n",
       "      <td>NaN</td>\n",
       "      <td>NaN</td>\n",
       "      <td>0.00</td>\n",
       "      <td>NaN</td>\n",
       "      <td>Quaddraxx-Logic \\u2013 Challenge your brain!\\n...</td>\n",
       "      <td>H2F Informationssysteme GmbH</td>\n",
       "      <td>4+</td>\n",
       "      <td>EN</td>\n",
       "      <td>3089867.0</td>\n",
       "      <td>Games</td>\n",
       "      <td>Games, Entertainment, Strategy, Puzzle</td>\n",
       "      <td>11/08/2008</td>\n",
       "      <td>30/09/2008</td>\n",
       "    </tr>\n",
       "    <tr>\n",
       "      <th>22</th>\n",
       "      <td>Ane Rouge</td>\n",
       "      <td>NaN</td>\n",
       "      <td>NaN</td>\n",
       "      <td>NaN</td>\n",
       "      <td>0.00</td>\n",
       "      <td>NaN</td>\n",
       "      <td>Your Goal is to make leave the red square towa...</td>\n",
       "      <td>Jean-Francois Pautex</td>\n",
       "      <td>4+</td>\n",
       "      <td>EN, FR</td>\n",
       "      <td>1190912.0</td>\n",
       "      <td>Games</td>\n",
       "      <td>Games, Puzzle, Education, Strategy</td>\n",
       "      <td>27/09/2008</td>\n",
       "      <td>8/03/2017</td>\n",
       "    </tr>\n",
       "    <tr>\n",
       "      <th>23</th>\n",
       "      <td>Neiscat</td>\n",
       "      <td>NaN</td>\n",
       "      <td>NaN</td>\n",
       "      <td>NaN</td>\n",
       "      <td>0.99</td>\n",
       "      <td>NaN</td>\n",
       "      <td>Neiscat is an original strategy game, where yo...</td>\n",
       "      <td>Frederic Bronner</td>\n",
       "      <td>4+</td>\n",
       "      <td>EN, FR</td>\n",
       "      <td>8806400.0</td>\n",
       "      <td>Games</td>\n",
       "      <td>Games, Board, Entertainment, Strategy</td>\n",
       "      <td>29/09/2008</td>\n",
       "      <td>23/12/2018</td>\n",
       "    </tr>\n",
       "    <tr>\n",
       "      <th>56</th>\n",
       "      <td>Shogi Kifu</td>\n",
       "      <td>NaN</td>\n",
       "      <td>NaN</td>\n",
       "      <td>NaN</td>\n",
       "      <td>3.99</td>\n",
       "      <td>NaN</td>\n",
       "      <td>This application is to record Shogi (Japanese ...</td>\n",
       "      <td>Yoshikazu Kakinoki</td>\n",
       "      <td>4+</td>\n",
       "      <td>EN, JA</td>\n",
       "      <td>29797376.0</td>\n",
       "      <td>Games</td>\n",
       "      <td>Games, Strategy, Board</td>\n",
       "      <td>14/07/2011</td>\n",
       "      <td>13/10/2018</td>\n",
       "    </tr>\n",
       "    <tr>\n",
       "      <th>57</th>\n",
       "      <td>Shogi Kifu</td>\n",
       "      <td>NaN</td>\n",
       "      <td>NaN</td>\n",
       "      <td>NaN</td>\n",
       "      <td>3.99</td>\n",
       "      <td>NaN</td>\n",
       "      <td>This application is to record Shogi (Japanese ...</td>\n",
       "      <td>Yoshikazu Kakinoki</td>\n",
       "      <td>4+</td>\n",
       "      <td>EN, JA</td>\n",
       "      <td>29797376.0</td>\n",
       "      <td>Games</td>\n",
       "      <td>Games, Strategy, Board</td>\n",
       "      <td>14/07/2011</td>\n",
       "      <td>13/10/2018</td>\n",
       "    </tr>\n",
       "    <tr>\n",
       "      <th>...</th>\n",
       "      <td>...</td>\n",
       "      <td>...</td>\n",
       "      <td>...</td>\n",
       "      <td>...</td>\n",
       "      <td>...</td>\n",
       "      <td>...</td>\n",
       "      <td>...</td>\n",
       "      <td>...</td>\n",
       "      <td>...</td>\n",
       "      <td>...</td>\n",
       "      <td>...</td>\n",
       "      <td>...</td>\n",
       "      <td>...</td>\n",
       "      <td>...</td>\n",
       "      <td>...</td>\n",
       "    </tr>\n",
       "    <tr>\n",
       "      <th>16978</th>\n",
       "      <td>Stack Puzzle : Rise Tower</td>\n",
       "      <td>Blast the cubes, solve puzzle!</td>\n",
       "      <td>NaN</td>\n",
       "      <td>NaN</td>\n",
       "      <td>0.00</td>\n",
       "      <td>NaN</td>\n",
       "      <td>The goal is very simple, move the square horiz...</td>\n",
       "      <td>Zhigang Pei</td>\n",
       "      <td>4+</td>\n",
       "      <td>EN</td>\n",
       "      <td>64795648.0</td>\n",
       "      <td>Games</td>\n",
       "      <td>Games, Entertainment, Casual, Strategy</td>\n",
       "      <td>30/07/2019</td>\n",
       "      <td>30/07/2019</td>\n",
       "    </tr>\n",
       "    <tr>\n",
       "      <th>16979</th>\n",
       "      <td>EachOther</td>\n",
       "      <td>NaN</td>\n",
       "      <td>NaN</td>\n",
       "      <td>NaN</td>\n",
       "      <td>0.00</td>\n",
       "      <td>NaN</td>\n",
       "      <td>Collect a score while you play!!\\n\\nBy linking...</td>\n",
       "      <td>Sultan Shindi</td>\n",
       "      <td>4+</td>\n",
       "      <td>EN</td>\n",
       "      <td>110341120.0</td>\n",
       "      <td>Games</td>\n",
       "      <td>Games, Family, Strategy</td>\n",
       "      <td>1/08/2019</td>\n",
       "      <td>1/08/2019</td>\n",
       "    </tr>\n",
       "    <tr>\n",
       "      <th>16980</th>\n",
       "      <td>Rabbit Vs Tortoise</td>\n",
       "      <td>NaN</td>\n",
       "      <td>NaN</td>\n",
       "      <td>NaN</td>\n",
       "      <td>0.00</td>\n",
       "      <td>NaN</td>\n",
       "      <td>\"Rabbit Vs Tortoise is chess type cool simple ...</td>\n",
       "      <td>Vishal Baldha</td>\n",
       "      <td>4+</td>\n",
       "      <td>EN</td>\n",
       "      <td>23207936.0</td>\n",
       "      <td>Games</td>\n",
       "      <td>Games, Strategy</td>\n",
       "      <td>3/08/2019</td>\n",
       "      <td>3/08/2019</td>\n",
       "    </tr>\n",
       "    <tr>\n",
       "      <th>16981</th>\n",
       "      <td>FaTaLL</td>\n",
       "      <td>Most fun game!!!</td>\n",
       "      <td>NaN</td>\n",
       "      <td>NaN</td>\n",
       "      <td>0.00</td>\n",
       "      <td>9.99, 49.99, 3.99</td>\n",
       "      <td>Upgrade your character and use your skills to ...</td>\n",
       "      <td>Tayrem Games</td>\n",
       "      <td>4+</td>\n",
       "      <td>EN</td>\n",
       "      <td>196750336.0</td>\n",
       "      <td>Games</td>\n",
       "      <td>Games, Strategy, Action</td>\n",
       "      <td>1/08/2019</td>\n",
       "      <td>1/08/2019</td>\n",
       "    </tr>\n",
       "    <tr>\n",
       "      <th>16982</th>\n",
       "      <td>The Three Kingdoms :Bomb</td>\n",
       "      <td>NaN</td>\n",
       "      <td>NaN</td>\n",
       "      <td>NaN</td>\n",
       "      <td>0.00</td>\n",
       "      <td>NaN</td>\n",
       "      <td>The protagonist uses the method of placing a b...</td>\n",
       "      <td>ming bo tang</td>\n",
       "      <td>4+</td>\n",
       "      <td>EN, ZH</td>\n",
       "      <td>22952960.0</td>\n",
       "      <td>Games</td>\n",
       "      <td>Games, Strategy, Puzzle</td>\n",
       "      <td>2/08/2019</td>\n",
       "      <td>2/08/2019</td>\n",
       "    </tr>\n",
       "  </tbody>\n",
       "</table>\n",
       "<p>9422 rows × 15 columns</p>\n",
       "</div>"
      ],
      "text/plain": [
       "                            Name                        Subtitle  \\\n",
       "10                     Quaddraxx                             NaN   \n",
       "22                     Ane Rouge                             NaN   \n",
       "23                       Neiscat                             NaN   \n",
       "56                    Shogi Kifu                             NaN   \n",
       "57                    Shogi Kifu                             NaN   \n",
       "...                          ...                             ...   \n",
       "16978  Stack Puzzle : Rise Tower  Blast the cubes, solve puzzle!   \n",
       "16979                  EachOther                             NaN   \n",
       "16980         Rabbit Vs Tortoise                             NaN   \n",
       "16981                     FaTaLL                Most fun game!!!   \n",
       "16982   The Three Kingdoms :Bomb                             NaN   \n",
       "\n",
       "       Average User Rating  User Rating Count  Price   In-app Purchases  \\\n",
       "10                     NaN                NaN   0.00                NaN   \n",
       "22                     NaN                NaN   0.00                NaN   \n",
       "23                     NaN                NaN   0.99                NaN   \n",
       "56                     NaN                NaN   3.99                NaN   \n",
       "57                     NaN                NaN   3.99                NaN   \n",
       "...                    ...                ...    ...                ...   \n",
       "16978                  NaN                NaN   0.00                NaN   \n",
       "16979                  NaN                NaN   0.00                NaN   \n",
       "16980                  NaN                NaN   0.00                NaN   \n",
       "16981                  NaN                NaN   0.00  9.99, 49.99, 3.99   \n",
       "16982                  NaN                NaN   0.00                NaN   \n",
       "\n",
       "                                             Description  \\\n",
       "10     Quaddraxx-Logic \\u2013 Challenge your brain!\\n...   \n",
       "22     Your Goal is to make leave the red square towa...   \n",
       "23     Neiscat is an original strategy game, where yo...   \n",
       "56     This application is to record Shogi (Japanese ...   \n",
       "57     This application is to record Shogi (Japanese ...   \n",
       "...                                                  ...   \n",
       "16978  The goal is very simple, move the square horiz...   \n",
       "16979  Collect a score while you play!!\\n\\nBy linking...   \n",
       "16980  \"Rabbit Vs Tortoise is chess type cool simple ...   \n",
       "16981  Upgrade your character and use your skills to ...   \n",
       "16982  The protagonist uses the method of placing a b...   \n",
       "\n",
       "                          Developer Age Rating Languages         Size  \\\n",
       "10     H2F Informationssysteme GmbH         4+        EN    3089867.0   \n",
       "22             Jean-Francois Pautex         4+    EN, FR    1190912.0   \n",
       "23                 Frederic Bronner         4+    EN, FR    8806400.0   \n",
       "56               Yoshikazu Kakinoki         4+    EN, JA   29797376.0   \n",
       "57               Yoshikazu Kakinoki         4+    EN, JA   29797376.0   \n",
       "...                             ...        ...       ...          ...   \n",
       "16978                   Zhigang Pei         4+        EN   64795648.0   \n",
       "16979                 Sultan Shindi         4+        EN  110341120.0   \n",
       "16980                 Vishal Baldha         4+        EN   23207936.0   \n",
       "16981                  Tayrem Games         4+        EN  196750336.0   \n",
       "16982                  ming bo tang         4+    EN, ZH   22952960.0   \n",
       "\n",
       "      Primary Genre                                  Genres  \\\n",
       "10            Games  Games, Entertainment, Strategy, Puzzle   \n",
       "22            Games      Games, Puzzle, Education, Strategy   \n",
       "23            Games   Games, Board, Entertainment, Strategy   \n",
       "56            Games                  Games, Strategy, Board   \n",
       "57            Games                  Games, Strategy, Board   \n",
       "...             ...                                     ...   \n",
       "16978         Games  Games, Entertainment, Casual, Strategy   \n",
       "16979         Games                 Games, Family, Strategy   \n",
       "16980         Games                         Games, Strategy   \n",
       "16981         Games                 Games, Strategy, Action   \n",
       "16982         Games                 Games, Strategy, Puzzle   \n",
       "\n",
       "      Original Release Date Current Version Release Date  \n",
       "10               11/08/2008                   30/09/2008  \n",
       "22               27/09/2008                    8/03/2017  \n",
       "23               29/09/2008                   23/12/2018  \n",
       "56               14/07/2011                   13/10/2018  \n",
       "57               14/07/2011                   13/10/2018  \n",
       "...                     ...                          ...  \n",
       "16978            30/07/2019                   30/07/2019  \n",
       "16979             1/08/2019                    1/08/2019  \n",
       "16980             3/08/2019                    3/08/2019  \n",
       "16981             1/08/2019                    1/08/2019  \n",
       "16982             2/08/2019                    2/08/2019  \n",
       "\n",
       "[9422 rows x 15 columns]"
      ]
     },
     "execution_count": 7,
     "metadata": {},
     "output_type": "execute_result"
    }
   ],
   "source": [
    "data[data['Average User Rating'].isna()]"
   ]
  },
  {
   "cell_type": "markdown",
   "metadata": {},
   "source": [
    "Clearly, the NaN values of 'Average User Rating' and 'User Rating Count' occur together."
   ]
  },
  {
   "cell_type": "markdown",
   "metadata": {},
   "source": [
    "## Relation between Avg Rating and Price"
   ]
  },
  {
   "cell_type": "markdown",
   "metadata": {},
   "source": [
    "**Variation of Average User Rating**"
   ]
  },
  {
   "cell_type": "code",
   "execution_count": 8,
   "metadata": {
    "scrolled": true
   },
   "outputs": [
    {
     "name": "stdout",
     "output_type": "stream",
     "text": [
      "MAX RATING:  5.0\n",
      "MIN RATING:  1.0\n",
      "MEAN RATING:  4.06090464224309\n",
      "MEDIAN RATING:  4.5\n",
      "MODE RATING:  ModeResult(mode=array([4.5]), count=array([2861]))\n"
     ]
    }
   ],
   "source": [
    "print(\"MAX RATING: \", max(data['Average User Rating']))\n",
    "print(\"MIN RATING: \", min(data['Average User Rating']))\n",
    "print(\"MEAN RATING: \", np.nanmean(data['Average User Rating']))\n",
    "print(\"MEDIAN RATING: \", np.nanmedian(data['Average User Rating']))\n",
    "print(\"MODE RATING: \", scipy.stats.mode(data['Average User Rating']))"
   ]
  },
  {
   "cell_type": "markdown",
   "metadata": {},
   "source": [
    "**Variation of Price**"
   ]
  },
  {
   "cell_type": "code",
   "execution_count": 9,
   "metadata": {
    "scrolled": true
   },
   "outputs": [
    {
     "name": "stdout",
     "output_type": "stream",
     "text": [
      "MAX PRICE:  179.99\n",
      "MIN PRICE:  0.0\n",
      "MEAN PRICE:  0.8134187128304776\n",
      "MEDIAN PRICE:  0.0\n",
      "MODE PRICE:  ModeResult(mode=array([0.]), count=array([14212]))\n"
     ]
    }
   ],
   "source": [
    "print(\"MAX PRICE: \", max(data['Price']))\n",
    "print(\"MIN PRICE: \", min(data['Price']))\n",
    "print(\"MEAN PRICE: \", np.nanmean(data['Price']))\n",
    "print(\"MEDIAN PRICE: \", np.nanmedian(data['Price']))\n",
    "print(\"MODE PRICE: \", scipy.stats.mode(data['Price']))"
   ]
  },
  {
   "cell_type": "markdown",
   "metadata": {},
   "source": [
    "**Price vs Avg Rating**"
   ]
  },
  {
   "cell_type": "code",
   "execution_count": 10,
   "metadata": {},
   "outputs": [
    {
     "data": {
      "image/png": "[encoded data removed]",
      "text/plain": [
       "<Figure size 360x360 with 1 Axes>"
      ]
     },
     "metadata": {
      "needs_background": "light"
     },
     "output_type": "display_data"
    }
   ],
   "source": [
    "sns.relplot(x = 'Average User Rating', y = 'Price', data = data)\n",
    "plt.show()"
   ]
  },
  {
   "cell_type": "markdown",
   "metadata": {},
   "source": [
    "**Clipping the Price**"
   ]
  },
  {
   "cell_type": "code",
   "execution_count": 11,
   "metadata": {},
   "outputs": [],
   "source": [
    "data['Price'].clip(upper = 20, inplace = True)"
   ]
  },
  {
   "cell_type": "markdown",
   "metadata": {},
   "source": [
    "**Clipped Price vs Avg Rating**"
   ]
  },
  {
   "cell_type": "code",
   "execution_count": 12,
   "metadata": {},
   "outputs": [
    {
     "data": {
      "image/png": "[encoded data removed]",
      "text/plain": [
       "<Figure size 360x360 with 1 Axes>"
      ]
     },
     "metadata": {
      "needs_background": "light"
     },
     "output_type": "display_data"
    }
   ],
   "source": [
    "sns.relplot(x = 'Average User Rating', y = 'Price', data = data)\n",
    "plt.show()"
   ]
  },
  {
   "cell_type": "markdown",
   "metadata": {},
   "source": [
    "From both the plots (Price vs Avg Rating and Clipped Price vs Avg Rating), it is clear that apps with an average rating of between 3.5 and 4.5 tend to have the highest price. "
   ]
  },
  {
   "cell_type": "markdown",
   "metadata": {},
   "source": [
    "## Relation between Rating Count and Price"
   ]
  },
  {
   "cell_type": "markdown",
   "metadata": {},
   "source": [
    "**Variation of Average User Rating**"
   ]
  },
  {
   "cell_type": "code",
   "execution_count": 13,
   "metadata": {
    "scrolled": true
   },
   "outputs": [
    {
     "name": "stdout",
     "output_type": "stream",
     "text": [
      "MAX RATING COUNT:  3032734.0\n",
      "MIN RATING COUNT:  5.0\n",
      "MEAN RATING COUNT:  3306.5312789313584\n",
      "MEDIAN RATING COUNT:  46.0\n",
      "MODE RATING COUNT:  ModeResult(mode=array([5.]), count=array([390]))\n"
     ]
    }
   ],
   "source": [
    "print(\"MAX RATING COUNT: \", max(data['User Rating Count']))\n",
    "print(\"MIN RATING COUNT: \", min(data['User Rating Count']))\n",
    "print(\"MEAN RATING COUNT: \", np.nanmean(data['User Rating Count']))\n",
    "print(\"MEDIAN RATING COUNT: \", np.nanmedian(data['User Rating Count']))\n",
    "print(\"MODE RATING COUNT: \", scipy.stats.mode(data['User Rating Count']))"
   ]
  },
  {
   "cell_type": "markdown",
   "metadata": {},
   "source": [
    "**Variation of Clipped Price**"
   ]
  },
  {
   "cell_type": "code",
   "execution_count": 14,
   "metadata": {
    "scrolled": true
   },
   "outputs": [
    {
     "name": "stdout",
     "output_type": "stream",
     "text": [
      "MAX PRICE:  20.0\n",
      "MIN PRICE:  0.0\n",
      "MEAN PRICE:  0.5134346110816699\n",
      "MEDIAN PRICE:  0.0\n",
      "MODE PRICE:  ModeResult(mode=array([0.]), count=array([14212]))\n"
     ]
    }
   ],
   "source": [
    "print(\"MAX PRICE: \", max(data['Price']))\n",
    "print(\"MIN PRICE: \", min(data['Price']))\n",
    "print(\"MEAN PRICE: \", np.nanmean(data['Price']))\n",
    "print(\"MEDIAN PRICE: \", np.nanmedian(data['Price']))\n",
    "print(\"MODE PRICE: \", scipy.stats.mode(data['Price']))"
   ]
  },
  {
   "cell_type": "markdown",
   "metadata": {},
   "source": [
    "**Clipped Price vs Rating Count**"
   ]
  },
  {
   "cell_type": "code",
   "execution_count": 15,
   "metadata": {},
   "outputs": [
    {
     "data": {
      "image/png": "[encoded data removed]",
      "text/plain": [
       "<Figure size 504x504 with 1 Axes>"
      ]
     },
     "metadata": {
      "needs_background": "light"
     },
     "output_type": "display_data"
    }
   ],
   "source": [
    "plt.figure(figsize = (7,7))\n",
    "plt.plot(data['User Rating Count'], data['Price'], \"b.\")\n",
    "plt.show()"
   ]
  },
  {
   "cell_type": "markdown",
   "metadata": {},
   "source": [
    "**Clipping the Rating Count**"
   ]
  },
  {
   "cell_type": "code",
   "execution_count": 16,
   "metadata": {},
   "outputs": [
    {
     "data": {
      "image/png": "[encoded data removed]",
      "text/plain": [
       "<Figure size 360x360 with 1 Axes>"
      ]
     },
     "metadata": {
      "needs_background": "light"
     },
     "output_type": "display_data"
    }
   ],
   "source": [
    "sns.relplot(data = data['User Rating Count'])\n",
    "plt.show()"
   ]
  },
  {
   "cell_type": "code",
   "execution_count": 17,
   "metadata": {},
   "outputs": [
    {
     "data": {
      "image/png": "[encoded data removed]",
      "text/plain": [
       "<Figure size 360x360 with 1 Axes>"
      ]
     },
     "metadata": {
      "needs_background": "light"
     },
     "output_type": "display_data"
    }
   ],
   "source": [
    "t = data['User Rating Count'].clip(upper = 100000)\n",
    "sns.relplot(data = t)\n",
    "plt.show()"
   ]
  },
  {
   "cell_type": "code",
   "execution_count": 18,
   "metadata": {},
   "outputs": [
    {
     "data": {
      "image/png": "[encoded data removed]",
      "text/plain": [
       "<Figure size 360x360 with 1 Axes>"
      ]
     },
     "metadata": {
      "needs_background": "light"
     },
     "output_type": "display_data"
    }
   ],
   "source": [
    "t = data['User Rating Count'].clip(upper = 30000)\n",
    "sns.relplot(data = t)\n",
    "plt.show()"
   ]
  },
  {
   "cell_type": "code",
   "execution_count": 19,
   "metadata": {},
   "outputs": [],
   "source": [
    "data['User Rating Count'].clip(upper = 30000, inplace = True)"
   ]
  },
  {
   "cell_type": "markdown",
   "metadata": {},
   "source": [
    "**Clipped Price vs Clipped Rating Count**"
   ]
  },
  {
   "cell_type": "code",
   "execution_count": 20,
   "metadata": {},
   "outputs": [
    {
     "data": {
      "image/png": "[encoded data removed]",
      "text/plain": [
       "<Figure size 720x720 with 1 Axes>"
      ]
     },
     "metadata": {
      "needs_background": "light"
     },
     "output_type": "display_data"
    }
   ],
   "source": [
    "plt.figure(figsize = (10,10))\n",
    "plt.plot(data['User Rating Count'], data['Price'], \"b.\")\n",
    "plt.show()"
   ]
  },
  {
   "cell_type": "markdown",
   "metadata": {},
   "source": [
    "From the above plot, it is clear that lower the price of the app, the higher is the number of user rating the app receives. "
   ]
  },
  {
   "cell_type": "markdown",
   "metadata": {},
   "source": [
    "## One-Hot Encoding the Genres"
   ]
  },
  {
   "cell_type": "code",
   "execution_count": 21,
   "metadata": {},
   "outputs": [
    {
     "name": "stdout",
     "output_type": "stream",
     "text": [
      "(16983, 15)\n"
     ]
    },
    {
     "data": {
      "text/html": [
       "<div>\n",
       "<style scoped>\n",
       "    .dataframe tbody tr th:only-of-type {\n",
       "        vertical-align: middle;\n",
       "    }\n",
       "\n",
       "    .dataframe tbody tr th {\n",
       "        vertical-align: top;\n",
       "    }\n",
       "\n",
       "    .dataframe thead th {\n",
       "        text-align: right;\n",
       "    }\n",
       "</style>\n",
       "<table border=\"1\" class=\"dataframe\">\n",
       "  <thead>\n",
       "    <tr style=\"text-align: right;\">\n",
       "      <th></th>\n",
       "      <th>Name</th>\n",
       "      <th>Subtitle</th>\n",
       "      <th>Average User Rating</th>\n",
       "      <th>User Rating Count</th>\n",
       "      <th>Price</th>\n",
       "      <th>In-app Purchases</th>\n",
       "      <th>Description</th>\n",
       "      <th>Developer</th>\n",
       "      <th>Age Rating</th>\n",
       "      <th>Languages</th>\n",
       "      <th>Size</th>\n",
       "      <th>Primary Genre</th>\n",
       "      <th>Genres</th>\n",
       "      <th>Original Release Date</th>\n",
       "      <th>Current Version Release Date</th>\n",
       "    </tr>\n",
       "  </thead>\n",
       "  <tbody>\n",
       "    <tr>\n",
       "      <th>0</th>\n",
       "      <td>Sudoku</td>\n",
       "      <td>NaN</td>\n",
       "      <td>4.0</td>\n",
       "      <td>3553.0</td>\n",
       "      <td>2.99</td>\n",
       "      <td>NaN</td>\n",
       "      <td>Join over 21,000,000 of our fans and download ...</td>\n",
       "      <td>Mighty Mighty Good Games</td>\n",
       "      <td>4+</td>\n",
       "      <td>DA, NL, EN, FI, FR, DE, IT, JA, KO, NB, PL, PT...</td>\n",
       "      <td>15853568.0</td>\n",
       "      <td>Games</td>\n",
       "      <td>Games, Strategy, Puzzle</td>\n",
       "      <td>11/07/2008</td>\n",
       "      <td>30/05/2017</td>\n",
       "    </tr>\n",
       "    <tr>\n",
       "      <th>1</th>\n",
       "      <td>Reversi</td>\n",
       "      <td>NaN</td>\n",
       "      <td>3.5</td>\n",
       "      <td>284.0</td>\n",
       "      <td>1.99</td>\n",
       "      <td>NaN</td>\n",
       "      <td>The classic game of Reversi, also known as Oth...</td>\n",
       "      <td>Kiss The Machine</td>\n",
       "      <td>4+</td>\n",
       "      <td>EN</td>\n",
       "      <td>12328960.0</td>\n",
       "      <td>Games</td>\n",
       "      <td>Games, Strategy, Board</td>\n",
       "      <td>11/07/2008</td>\n",
       "      <td>17/05/2018</td>\n",
       "    </tr>\n",
       "    <tr>\n",
       "      <th>2</th>\n",
       "      <td>Morocco</td>\n",
       "      <td>NaN</td>\n",
       "      <td>3.0</td>\n",
       "      <td>8376.0</td>\n",
       "      <td>0.00</td>\n",
       "      <td>NaN</td>\n",
       "      <td>Play the classic strategy game Othello (also k...</td>\n",
       "      <td>Bayou Games</td>\n",
       "      <td>4+</td>\n",
       "      <td>EN</td>\n",
       "      <td>674816.0</td>\n",
       "      <td>Games</td>\n",
       "      <td>Games, Board, Strategy</td>\n",
       "      <td>11/07/2008</td>\n",
       "      <td>5/09/2017</td>\n",
       "    </tr>\n",
       "  </tbody>\n",
       "</table>\n",
       "</div>"
      ],
      "text/plain": [
       "      Name Subtitle  Average User Rating  User Rating Count  Price  \\\n",
       "0   Sudoku      NaN                  4.0             3553.0   2.99   \n",
       "1  Reversi      NaN                  3.5              284.0   1.99   \n",
       "2  Morocco      NaN                  3.0             8376.0   0.00   \n",
       "\n",
       "  In-app Purchases                                        Description  \\\n",
       "0              NaN  Join over 21,000,000 of our fans and download ...   \n",
       "1              NaN  The classic game of Reversi, also known as Oth...   \n",
       "2              NaN  Play the classic strategy game Othello (also k...   \n",
       "\n",
       "                  Developer Age Rating  \\\n",
       "0  Mighty Mighty Good Games         4+   \n",
       "1          Kiss The Machine         4+   \n",
       "2               Bayou Games         4+   \n",
       "\n",
       "                                           Languages        Size  \\\n",
       "0  DA, NL, EN, FI, FR, DE, IT, JA, KO, NB, PL, PT...  15853568.0   \n",
       "1                                                 EN  12328960.0   \n",
       "2                                                 EN    674816.0   \n",
       "\n",
       "  Primary Genre                   Genres Original Release Date  \\\n",
       "0         Games  Games, Strategy, Puzzle            11/07/2008   \n",
       "1         Games   Games, Strategy, Board            11/07/2008   \n",
       "2         Games   Games, Board, Strategy            11/07/2008   \n",
       "\n",
       "  Current Version Release Date  \n",
       "0                   30/05/2017  \n",
       "1                   17/05/2018  \n",
       "2                    5/09/2017  "
      ]
     },
     "execution_count": 21,
     "metadata": {},
     "output_type": "execute_result"
    }
   ],
   "source": [
    "print(data.shape)\n",
    "data.head(3)"
   ]
  },
  {
   "cell_type": "markdown",
   "metadata": {},
   "source": [
    "**Getting the Unique Genres**"
   ]
  },
  {
   "cell_type": "code",
   "execution_count": 22,
   "metadata": {},
   "outputs": [],
   "source": [
    "def one_hot_encode_df(df, col):\n",
    "    items = list(data[col].str.split(\", \"))    \n",
    "    unique_items = []\n",
    "    for i in items:\n",
    "        unique_items.extend(i)\n",
    "    unique_items = sorted(list(set(unique_items)))\n",
    "    return unique_items    "
   ]
  },
  {
   "cell_type": "code",
   "execution_count": 23,
   "metadata": {},
   "outputs": [
    {
     "name": "stdout",
     "output_type": "stream",
     "text": [
      "['Action', 'Adventure', 'Animals & Nature', 'Art', 'Board', 'Books', 'Business', 'Card', 'Casino', 'Casual', 'Comics & Cartoons', 'Education', 'Emoji & Expressions', 'Entertainment', 'Family', 'Finance', 'Food & Drink', 'Games', 'Gaming', 'Health & Fitness', 'Kids & Family', 'Lifestyle', 'Magazines & Newspapers', 'Medical', 'Music', 'Navigation', 'News', 'People', 'Photo & Video', 'Places & Objects', 'Productivity', 'Puzzle', 'Racing', 'Reference', 'Role Playing', 'Shopping', 'Simulation', 'Social Networking', 'Sports', 'Sports & Activities', 'Stickers', 'Strategy', 'Travel', 'Trivia', 'Utilities', 'Weather', 'Word']\n",
      "47\n"
     ]
    }
   ],
   "source": [
    "unique_genres = one_hot_encode_df(data, 'Genres')\n",
    "print(unique_genres)\n",
    "print(len(unique_genres))"
   ]
  },
  {
   "cell_type": "markdown",
   "metadata": {},
   "source": [
    "**Adding columns for each Unique Genre**"
   ]
  },
  {
   "cell_type": "code",
   "execution_count": 24,
   "metadata": {},
   "outputs": [
    {
     "name": "stdout",
     "output_type": "stream",
     "text": [
      "(16983, 62)\n"
     ]
    }
   ],
   "source": [
    "zeros = pd.Series(np.zeros(data.shape[0]))\n",
    "for i in unique_genres:\n",
    "    data[i] = zeros\n",
    "    \n",
    "print(data.shape)"
   ]
  },
  {
   "cell_type": "markdown",
   "metadata": {},
   "source": [
    "**Mapping the Genre column to the newly added individual columns**"
   ]
  },
  {
   "cell_type": "code",
   "execution_count": 25,
   "metadata": {},
   "outputs": [],
   "source": [
    "for i in range(data.shape[0]):\n",
    "    g_names = data.loc[i,'Genres'].split(\", \")\n",
    "    for n in g_names:\n",
    "        data.loc[i, n] = 1"
   ]
  },
  {
   "cell_type": "markdown",
   "metadata": {},
   "source": [
    "**Removing the Genre column**"
   ]
  },
  {
   "cell_type": "code",
   "execution_count": 26,
   "metadata": {},
   "outputs": [
    {
     "data": {
      "text/html": [
       "<div>\n",
       "<style scoped>\n",
       "    .dataframe tbody tr th:only-of-type {\n",
       "        vertical-align: middle;\n",
       "    }\n",
       "\n",
       "    .dataframe tbody tr th {\n",
       "        vertical-align: top;\n",
       "    }\n",
       "\n",
       "    .dataframe thead th {\n",
       "        text-align: right;\n",
       "    }\n",
       "</style>\n",
       "<table border=\"1\" class=\"dataframe\">\n",
       "  <thead>\n",
       "    <tr style=\"text-align: right;\">\n",
       "      <th></th>\n",
       "      <th>Name</th>\n",
       "      <th>Subtitle</th>\n",
       "      <th>Average User Rating</th>\n",
       "      <th>User Rating Count</th>\n",
       "      <th>Price</th>\n",
       "      <th>In-app Purchases</th>\n",
       "      <th>Description</th>\n",
       "      <th>Developer</th>\n",
       "      <th>Age Rating</th>\n",
       "      <th>Languages</th>\n",
       "      <th>...</th>\n",
       "      <th>Social Networking</th>\n",
       "      <th>Sports</th>\n",
       "      <th>Sports &amp; Activities</th>\n",
       "      <th>Stickers</th>\n",
       "      <th>Strategy</th>\n",
       "      <th>Travel</th>\n",
       "      <th>Trivia</th>\n",
       "      <th>Utilities</th>\n",
       "      <th>Weather</th>\n",
       "      <th>Word</th>\n",
       "    </tr>\n",
       "  </thead>\n",
       "  <tbody>\n",
       "    <tr>\n",
       "      <th>0</th>\n",
       "      <td>Sudoku</td>\n",
       "      <td>NaN</td>\n",
       "      <td>4.0</td>\n",
       "      <td>3553.0</td>\n",
       "      <td>2.99</td>\n",
       "      <td>NaN</td>\n",
       "      <td>Join over 21,000,000 of our fans and download ...</td>\n",
       "      <td>Mighty Mighty Good Games</td>\n",
       "      <td>4+</td>\n",
       "      <td>DA, NL, EN, FI, FR, DE, IT, JA, KO, NB, PL, PT...</td>\n",
       "      <td>...</td>\n",
       "      <td>0.0</td>\n",
       "      <td>0.0</td>\n",
       "      <td>0.0</td>\n",
       "      <td>0.0</td>\n",
       "      <td>1.0</td>\n",
       "      <td>0.0</td>\n",
       "      <td>0.0</td>\n",
       "      <td>0.0</td>\n",
       "      <td>0.0</td>\n",
       "      <td>0.0</td>\n",
       "    </tr>\n",
       "    <tr>\n",
       "      <th>1</th>\n",
       "      <td>Reversi</td>\n",
       "      <td>NaN</td>\n",
       "      <td>3.5</td>\n",
       "      <td>284.0</td>\n",
       "      <td>1.99</td>\n",
       "      <td>NaN</td>\n",
       "      <td>The classic game of Reversi, also known as Oth...</td>\n",
       "      <td>Kiss The Machine</td>\n",
       "      <td>4+</td>\n",
       "      <td>EN</td>\n",
       "      <td>...</td>\n",
       "      <td>0.0</td>\n",
       "      <td>0.0</td>\n",
       "      <td>0.0</td>\n",
       "      <td>0.0</td>\n",
       "      <td>1.0</td>\n",
       "      <td>0.0</td>\n",
       "      <td>0.0</td>\n",
       "      <td>0.0</td>\n",
       "      <td>0.0</td>\n",
       "      <td>0.0</td>\n",
       "    </tr>\n",
       "    <tr>\n",
       "      <th>2</th>\n",
       "      <td>Morocco</td>\n",
       "      <td>NaN</td>\n",
       "      <td>3.0</td>\n",
       "      <td>8376.0</td>\n",
       "      <td>0.00</td>\n",
       "      <td>NaN</td>\n",
       "      <td>Play the classic strategy game Othello (also k...</td>\n",
       "      <td>Bayou Games</td>\n",
       "      <td>4+</td>\n",
       "      <td>EN</td>\n",
       "      <td>...</td>\n",
       "      <td>0.0</td>\n",
       "      <td>0.0</td>\n",
       "      <td>0.0</td>\n",
       "      <td>0.0</td>\n",
       "      <td>1.0</td>\n",
       "      <td>0.0</td>\n",
       "      <td>0.0</td>\n",
       "      <td>0.0</td>\n",
       "      <td>0.0</td>\n",
       "      <td>0.0</td>\n",
       "    </tr>\n",
       "  </tbody>\n",
       "</table>\n",
       "<p>3 rows × 61 columns</p>\n",
       "</div>"
      ],
      "text/plain": [
       "      Name Subtitle  Average User Rating  User Rating Count  Price  \\\n",
       "0   Sudoku      NaN                  4.0             3553.0   2.99   \n",
       "1  Reversi      NaN                  3.5              284.0   1.99   \n",
       "2  Morocco      NaN                  3.0             8376.0   0.00   \n",
       "\n",
       "  In-app Purchases                                        Description  \\\n",
       "0              NaN  Join over 21,000,000 of our fans and download ...   \n",
       "1              NaN  The classic game of Reversi, also known as Oth...   \n",
       "2              NaN  Play the classic strategy game Othello (also k...   \n",
       "\n",
       "                  Developer Age Rating  \\\n",
       "0  Mighty Mighty Good Games         4+   \n",
       "1          Kiss The Machine         4+   \n",
       "2               Bayou Games         4+   \n",
       "\n",
       "                                           Languages  ...  Social Networking  \\\n",
       "0  DA, NL, EN, FI, FR, DE, IT, JA, KO, NB, PL, PT...  ...                0.0   \n",
       "1                                                 EN  ...                0.0   \n",
       "2                                                 EN  ...                0.0   \n",
       "\n",
       "  Sports Sports & Activities Stickers  Strategy  Travel  Trivia  Utilities  \\\n",
       "0    0.0                 0.0      0.0       1.0     0.0     0.0        0.0   \n",
       "1    0.0                 0.0      0.0       1.0     0.0     0.0        0.0   \n",
       "2    0.0                 0.0      0.0       1.0     0.0     0.0        0.0   \n",
       "\n",
       "   Weather  Word  \n",
       "0      0.0   0.0  \n",
       "1      0.0   0.0  \n",
       "2      0.0   0.0  \n",
       "\n",
       "[3 rows x 61 columns]"
      ]
     },
     "execution_count": 26,
     "metadata": {},
     "output_type": "execute_result"
    }
   ],
   "source": [
    "data.drop(['Genres'], axis = 1, inplace = True)\n",
    "data.head(3)"
   ]
  },
  {
   "cell_type": "markdown",
   "metadata": {},
   "source": [
    "## Relation between Primary Genre and Prices"
   ]
  },
  {
   "cell_type": "code",
   "execution_count": 27,
   "metadata": {},
   "outputs": [
    {
     "data": {
      "image/png": "[encoded data removed]",
      "text/plain": [
       "<Figure size 720x720 with 1 Axes>"
      ]
     },
     "metadata": {
      "needs_background": "light"
     },
     "output_type": "display_data"
    }
   ],
   "source": [
    "plt.figure(figsize = (10,10))\n",
    "sns.barplot(y = \"Primary Genre\", x = \"Price\", data = data)\n",
    "plt.show()"
   ]
  },
  {
   "cell_type": "markdown",
   "metadata": {},
   "source": [
    "As we can see, Business and Productivity based Apps have the most Price"
   ]
  },
  {
   "cell_type": "markdown",
   "metadata": {},
   "source": [
    "## Relation between separate Genres and Price"
   ]
  },
  {
   "cell_type": "code",
   "execution_count": 28,
   "metadata": {},
   "outputs": [],
   "source": [
    "def find_mean_price(df, genre, mean_col):\n",
    "    prices = df[mean_col][df[genre] == 1]\n",
    "    avg_price = np.mean(prices)\n",
    "    return avg_price"
   ]
  },
  {
   "cell_type": "code",
   "execution_count": 29,
   "metadata": {},
   "outputs": [
    {
     "name": "stdout",
     "output_type": "stream",
     "text": [
      "{'Action': 0.3074900398406375, 'Adventure': 0.3666786570743406, 'Animals & Nature': 0.99, 'Art': 0.495, 'Board': 1.1158163858221963, 'Books': 0.47210526315789475, 'Business': 1.818444444444444, 'Card': 0.47606824925816027, 'Casino': 0.30573333333333336, 'Casual': 0.20410999408633942, 'Comics & Cartoons': 0.495, 'Education': 1.0279684210526314, 'Emoji & Expressions': 1.1253333333333333, 'Entertainment': 0.4100050125313283, 'Family': 0.2627425614489004, 'Finance': 0.94, 'Food & Drink': 0.3319298245614035, 'Games': 0.5134346110816699, 'Gaming': 0.9919999999999999, 'Health & Fitness': 0.26323529411764707, 'Kids & Family': 0.66, 'Lifestyle': 0.18081818181818182, 'Magazines & Newspapers': 0.0, 'Medical': 0.28285714285714286, 'Music': 0.32245098039215686, 'Navigation': 0.0, 'News': 0.649, 'People': 0.9899999999999999, 'Photo & Video': 0.9184, 'Places & Objects': 0.99, 'Productivity': 0.675, 'Puzzle': 0.31521091184642586, 'Racing': 0.3399224806201551, 'Reference': 1.2708333333333333, 'Role Playing': 0.5746030330062445, 'Shopping': 0.0, 'Simulation': 1.0803037383177572, 'Social Networking': 0.07087301587301587, 'Sports': 0.3652389380530974, 'Sports & Activities': 0.7424999999999999, 'Stickers': 0.9596774193548384, 'Strategy': 0.5134648451301378, 'Travel': 3.3938709677419356, 'Trivia': 0.2304152249134948, 'Utilities': 0.5682485875706216, 'Weather': 9.99, 'Word': 0.30992000000000003}\n"
     ]
    }
   ],
   "source": [
    "genre_to_price_map = {}\n",
    "for g in unique_genres:\n",
    "    genre_to_price_map[g] = find_mean_price(data, g, 'Price')\n",
    "\n",
    "print(genre_to_price_map)"
   ]
  },
  {
   "cell_type": "code",
   "execution_count": 30,
   "metadata": {},
   "outputs": [
    {
     "data": {
      "image/png": "[encoded data removed]",
      "text/plain": [
       "<Figure size 720x1080 with 1 Axes>"
      ]
     },
     "metadata": {
      "needs_background": "light"
     },
     "output_type": "display_data"
    }
   ],
   "source": [
    "plt.figure(figsize = (10, 15))\n",
    "sns.barplot(list(genre_to_price_map.values()), list(genre_to_price_map.keys()))\n",
    "plt.show()"
   ]
  },
  {
   "cell_type": "markdown",
   "metadata": {},
   "source": [
    "From the above plot, it is clear that Weather and Travel based apps have the highest price, even though there was only one app in the Weather Genre, and so this can easily be considered as an outlier."
   ]
  }
 ],
 "metadata": {
  "kernelspec": {
   "display_name": "Python 3",
   "language": "python",
   "name": "python3"
  },
  "language_info": {
   "codemirror_mode": {
    "name": "ipython",
    "version": 3
   },
   "file_extension": ".py",
   "mimetype": "text/x-python",
   "name": "python",
   "nbconvert_exporter": "python",
   "pygments_lexer": "ipython3",
   "version": "3.8.2"
  }
 },
 "nbformat": 4,
 "nbformat_minor": 4
}
